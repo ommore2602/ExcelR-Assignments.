{
 "cells": [
  {
   "cell_type": "markdown",
   "id": "1c18d4d6",
   "metadata": {},
   "source": [
    "# Exercise 1: Prime Numbers"
   ]
  },
  {
   "cell_type": "code",
   "execution_count": 2,
   "id": "0ac5753c",
   "metadata": {},
   "outputs": [
    {
     "name": "stdout",
     "output_type": "stream",
     "text": [
      "Enter a number to check if it's prime: 3\n",
      "3 is a prime number.\n"
     ]
    }
   ],
   "source": [
    "def is_prime(number):\n",
    "    if number <= 1:\n",
    "        return False\n",
    "    elif number <= 3:\n",
    "        return True\n",
    "    elif number % 2 == 0 or number % 3 == 0:\n",
    "        return False\n",
    "    i = 5\n",
    "    while i * i <= number:\n",
    "        if number % i == 0 or number % (i + 2) == 0:\n",
    "            return False\n",
    "        i += 6\n",
    "    return True\n",
    "\n",
    "# Test the function\n",
    "number = int(input(\"Enter a number to check if it's prime: \"))\n",
    "if is_prime(number):\n",
    "    print(number, \"is a prime number.\")\n",
    "else:\n",
    "    print(number, \"is not a prime number.\")"
   ]
  },
  {
   "cell_type": "markdown",
   "id": "97200664",
   "metadata": {},
   "source": [
    "# Exercise 2: Product of Random Numbers"
   ]
  },
  {
   "cell_type": "code",
   "execution_count": 5,
   "id": "e805371e",
   "metadata": {},
   "outputs": [
    {
     "name": "stdout",
     "output_type": "stream",
     "text": [
      "What is the product of 9 and 3? 27\n",
      "Congratulations! Your answer is correct.\n"
     ]
    }
   ],
   "source": [
    "import random\n",
    "\n",
    "def generate_numbers():\n",
    "    num1 = random.randint(1, 10)\n",
    "    num2 = random.randint(1, 10)\n",
    "    return num1, num2\n",
    "\n",
    "def main():\n",
    "    num1, num2 = generate_numbers()\n",
    "    product = num1 * num2\n",
    "\n",
    "    user_answer = int(input(f\"What is the product of {num1} and {num2}? \"))\n",
    "\n",
    "    if user_answer == product:\n",
    "        print(\"Congratulations! Your answer is correct.\")\n",
    "    else:\n",
    "        print(f\"Sorry, the correct answer is {product}.\")\n",
    "\n",
    "if __name__ == \"__main__\":\n",
    "    main()"
   ]
  },
  {
   "cell_type": "markdown",
   "id": "780f4ec4",
   "metadata": {},
   "source": [
    "# Exercise 3: Squares of Even/Odd Numbers"
   ]
  },
  {
   "cell_type": "code",
   "execution_count": 6,
   "id": "0d4e3650",
   "metadata": {},
   "outputs": [
    {
     "name": "stdout",
     "output_type": "stream",
     "text": [
      "Squares of even numbers within the range of 100 to 200:\n",
      "100 : 10000\n",
      "102 : 10404\n",
      "104 : 10816\n",
      "106 : 11236\n",
      "108 : 11664\n",
      "110 : 12100\n",
      "112 : 12544\n",
      "114 : 12996\n",
      "116 : 13456\n",
      "118 : 13924\n",
      "120 : 14400\n",
      "122 : 14884\n",
      "124 : 15376\n",
      "126 : 15876\n",
      "128 : 16384\n",
      "130 : 16900\n",
      "132 : 17424\n",
      "134 : 17956\n",
      "136 : 18496\n",
      "138 : 19044\n",
      "140 : 19600\n",
      "142 : 20164\n",
      "144 : 20736\n",
      "146 : 21316\n",
      "148 : 21904\n",
      "150 : 22500\n",
      "152 : 23104\n",
      "154 : 23716\n",
      "156 : 24336\n",
      "158 : 24964\n",
      "160 : 25600\n",
      "162 : 26244\n",
      "164 : 26896\n",
      "166 : 27556\n",
      "168 : 28224\n",
      "170 : 28900\n",
      "172 : 29584\n",
      "174 : 30276\n",
      "176 : 30976\n",
      "178 : 31684\n",
      "180 : 32400\n",
      "182 : 33124\n",
      "184 : 33856\n",
      "186 : 34596\n",
      "188 : 35344\n",
      "190 : 36100\n",
      "192 : 36864\n",
      "194 : 37636\n",
      "196 : 38416\n",
      "198 : 39204\n",
      "200 : 40000\n"
     ]
    }
   ],
   "source": [
    "# We choose to print squares of even numbers within the range of 100 to 200\n",
    "print(\"Squares of even numbers within the range of 100 to 200:\")\n",
    "\n",
    "for num in range(100, 201):\n",
    "    if num % 2 == 0:\n",
    "        print(num, \":\", num ** 2)"
   ]
  },
  {
   "cell_type": "markdown",
   "id": "17fde211",
   "metadata": {},
   "source": [
    "# Exercise 4: Word counter"
   ]
  },
  {
   "cell_type": "code",
   "execution_count": 7,
   "id": "d0196d83",
   "metadata": {},
   "outputs": [
    {
     "name": "stdout",
     "output_type": "stream",
     "text": [
      "Word counts:\n",
      "'this': 2\n",
      "'is': 1\n",
      "'a': 1\n",
      "'sample': 1\n",
      "'text': 2\n",
      "'will': 1\n",
      "'be': 1\n",
      "'used': 1\n",
      "'to': 1\n",
      "'demonstrate': 1\n",
      "'the': 1\n",
      "'word': 1\n",
      "'counter': 1\n"
     ]
    }
   ],
   "source": [
    "def word_counter(text):\n",
    "    word_count = {}\n",
    "    words = text.split()\n",
    "    for word in words:\n",
    "        # Remove punctuation from the word\n",
    "        word = word.strip('.,?!')\n",
    "        # Convert word to lowercase for case-insensitive counting\n",
    "        word = word.lower()\n",
    "        # Count the word\n",
    "        if word in word_count:\n",
    "            word_count[word] += 1\n",
    "        else:\n",
    "            word_count[word] = 1\n",
    "    return word_count\n",
    "\n",
    "input_text = \"This is a sample text. This text will be used to demonstrate the word counter.\"\n",
    "word_count = word_counter(input_text)\n",
    "\n",
    "print(\"Word counts:\")\n",
    "for word, count in word_count.items():\n",
    "    print(f\"'{word}': {count}\")"
   ]
  },
  {
   "cell_type": "markdown",
   "id": "ec7e5ab4",
   "metadata": {},
   "source": [
    "# Exercise 4: Word counter "
   ]
  },
  {
   "cell_type": "code",
   "execution_count": 9,
   "id": "c74ad55f",
   "metadata": {},
   "outputs": [
    {
     "name": "stdout",
     "output_type": "stream",
     "text": [
      "True\n"
     ]
    }
   ],
   "source": [
    "def is_palindrome(input_str):\n",
    "    # Remove spaces and punctuation, and convert to lowercase\n",
    "    cleaned_str = ''.join(char.lower() for char in input_str if char.isalnum())\n",
    "    # Check if the cleaned string is equal to its reverse\n",
    "    return cleaned_str == cleaned_str[::-1]\n",
    "\n",
    "# Test the function\n",
    "input_str = \"racecar\"\n",
    "print(is_palindrome(input_str))  "
   ]
  },
  {
   "cell_type": "code",
   "execution_count": null,
   "id": "8a3692a2",
   "metadata": {},
   "outputs": [],
   "source": []
  }
 ],
 "metadata": {
  "kernelspec": {
   "display_name": "Python 3 (ipykernel)",
   "language": "python",
   "name": "python3"
  },
  "language_info": {
   "codemirror_mode": {
    "name": "ipython",
    "version": 3
   },
   "file_extension": ".py",
   "mimetype": "text/x-python",
   "name": "python",
   "nbconvert_exporter": "python",
   "pygments_lexer": "ipython3",
   "version": "3.11.5"
  }
 },
 "nbformat": 4,
 "nbformat_minor": 5
}
